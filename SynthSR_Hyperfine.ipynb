{
 "cells": [
  {
   "cell_type": "code",
   "execution_count": 6,
   "metadata": {},
   "outputs": [],
   "source": [
    "# Please modify these with your paths, input / output files,  etc\n",
    "code_path = '/data/software/SynthSR'  # location of SynthSR\n",
    "visible_gpu_devices = '' # Leave it empty to use the CPU (it takes less than a minute anyway)\n",
    "model_file = '/data/low_field/hyperfine/SynthSR_analysis/model_for_james.h5' # location of .h5 model file\n",
    "T1 = 'T1_FILE' # input T1, resampled to 1mm\n",
    "T2 = 'T2_FILE' # input T2, registered & resampled to T1\n",
    "output_file = 'OUTPUT_FILE/t1_SR.nii.gz' # the output will be written here\n"
   ]
  },
  {
   "cell_type": "code",
   "execution_count": 2,
   "metadata": {},
   "outputs": [
    {
     "name": "stderr",
     "output_type": "stream",
     "text": [
      "Using TensorFlow backend.\n"
     ]
    }
   ],
   "source": [
    "import sys\n",
    "sys.path.append(code_path)  \n",
    "\n",
    "import os\n",
    "os.environ[\"CUDA_DEVICE_ORDER\"] = \"PCI_BUS_ID\"   \n",
    "os.environ[\"CUDA_VISIBLE_DEVICES\"] =   visible_gpu_devices\n",
    "\n",
    "import numpy as np\n",
    "from ext.lab2im import utils\n",
    "from ext.neuron import models as nrn_models\n",
    "from ext.lab2im.edit_volumes import align_volume_to_ref \n"
   ]
  },
  {
   "cell_type": "code",
   "execution_count": 3,
   "metadata": {},
   "outputs": [],
   "source": [
    "unet_model = nrn_models.unet(nb_features=24,\n",
    "                             input_shape=[256, 256, 256, 2],\n",
    "                             nb_levels=5,\n",
    "                             conv_size=3,\n",
    "                             nb_labels=1,\n",
    "                             feat_mult=2,\n",
    "                             dilation_rate_mult=1,\n",
    "                             nb_conv_per_level=2,\n",
    "                             conv_dropout=False,\n",
    "                             final_pred_activation='linear',\n",
    "                             batch_norm=-1,\n",
    "                             input_model=None)\n",
    "\n"
   ]
  },
  {
   "cell_type": "code",
   "execution_count": 4,
   "metadata": {},
   "outputs": [
    {
     "name": "stdout",
     "output_type": "stream",
     "text": [
      "loading /tmp/model_for_james.h5\n"
     ]
    }
   ],
   "source": [
    "print('loading', model_file)\n",
    "unet_model.load_weights(model_file)"
   ]
  },
  {
   "cell_type": "code",
   "execution_count": 10,
   "metadata": {},
   "outputs": [],
   "source": [
    "# read images\n",
    "im1_orig, aff_orig, _ = utils.load_volume(T1,im_only=False,dtype='float')\n",
    "im2_orig = utils.load_volume(T2,im_only=True,dtype='float')\n",
    "\n",
    "# rearrange axis so aff is approximately diagonal\n",
    "im1, aff = align_volume_to_ref(im1_orig, aff_orig, return_aff=True)\n",
    "im2 = align_volume_to_ref(im2_orig, aff_orig)\n",
    "\n",
    "# Normalization to [0,1] interval (please ignore the 3.0 and 2.0, it's a long story...)\n",
    "minimum = np.min(im1)\n",
    "im1 = im1 - minimum\n",
    "spread = np.max(im1) / 3.0\n",
    "im1 = im1 / spread \n",
    "im2 = im2 - np.min(im2)\n",
    "im2 = im2 / np.max(im2) * 2.0\n",
    "\n",
    "# Pad to 256\n",
    "I = np.stack([im1, im2], axis=-1)[np.newaxis,...]\n",
    "S = np.zeros([1, 256, 256, 256, 2]) \n",
    "\n",
    "i1 = np.floor((256-I.shape[1])/2).astype('int')\n",
    "j1 = np.floor((256-I.shape[2])/2).astype('int')\n",
    "k1 = np.floor((256-I.shape[3])/2).astype('int')\n",
    "S[0, i1:i1+I.shape[1], j1:j1+I.shape[2], k1:k1+I.shape[3], :] = I"
   ]
  },
  {
   "cell_type": "code",
   "execution_count": 11,
   "metadata": {},
   "outputs": [],
   "source": [
    "output = unet_model.predict(S)\n",
    "predR = np.squeeze(output)\n",
    "predR = predR[i1:i1+I.shape[1], j1:j1+I.shape[2], k1:k1+I.shape[3]]\n",
    "pred = predR + im1[0:predR.shape[0],0:predR.shape[1],0:predR.shape[2]]\n",
    "pred = minimum + spread * pred\n"
   ]
  },
  {
   "cell_type": "code",
   "execution_count": 12,
   "metadata": {},
   "outputs": [
    {
     "name": "stdout",
     "output_type": "stream",
     "text": [
      "Visualize output with:  freeview /tmp/T1.1mm.nii.gz /tmp/T2.1mm.nii.gz /tmp/output.nii.gz\n",
      "(or using your favorite viewer!)\n"
     ]
    }
   ],
   "source": [
    "# before saving, we go back to the original axis rearrangement, \n",
    "# in case your viewer does not handle RAS coordinates properly \n",
    "pred_rearranged = align_volume_to_ref(pred, aff, aff_ref=aff_orig)\n",
    "utils.save_volume(pred_rearranged,aff_orig,None,output_file)\n",
    "print('Visualize output with:  freeview ' + T1 + ' ' + T2 + ' ' + output_file)\n",
    "print('(or using your favorite viewer!)')\n"
   ]
  },
  {
   "cell_type": "code",
   "execution_count": null,
   "metadata": {},
   "outputs": [],
   "source": []
  }
 ],
 "metadata": {
  "kernelspec": {
   "display_name": "Python 3",
   "language": "python",
   "name": "python3"
  },
  "language_info": {
   "codemirror_mode": {
    "name": "ipython",
    "version": 3
   },
   "file_extension": ".py",
   "mimetype": "text/x-python",
   "name": "python",
   "nbconvert_exporter": "python",
   "pygments_lexer": "ipython3",
   "version": "3.6.6"
  }
 },
 "nbformat": 4,
 "nbformat_minor": 2
}
